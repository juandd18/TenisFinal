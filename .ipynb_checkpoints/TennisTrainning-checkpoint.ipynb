{
 "cells": [
  {
   "cell_type": "markdown",
   "metadata": {},
   "source": [
    "# Collaboration and Competition\n",
    "\n",
    "---\n",
    "\n",
    "In this notebook, you will learn how to use the Unity ML-Agents environment for the third project of the [Deep Reinforcement Learning Nanodegree](https://www.udacity.com/course/deep-reinforcement-learning-nanodegree--nd893) program.\n",
    "\n",
    "### 1. Start the Environment and Imports\n",
    "\n",
    "We begin by importing the necessary packages.  If the code cell below returns an error, please revisit the project instructions to double-check that you have installed [Unity ML-Agents](https://github.com/Unity-Technologies/ml-agents/blob/master/docs/Installation.md) and [NumPy](http://www.numpy.org/)."
   ]
  },
  {
   "cell_type": "code",
   "execution_count": 1,
   "metadata": {},
   "outputs": [],
   "source": [
    "import torch\n",
    "import time\n",
    "import os\n",
    "import numpy as np\n",
    "\n",
    "from pathlib import Path\n",
    "from torch.autograd import Variable\n",
    "from tensorboardX import SummaryWriter\n",
    "\n",
    "from model import DDPGAgent"
   ]
  },
  {
   "cell_type": "code",
   "execution_count": 2,
   "metadata": {},
   "outputs": [],
   "source": [
    "from unityagents import UnityEnvironment"
   ]
  },
  {
   "cell_type": "code",
   "execution_count": 3,
   "metadata": {},
   "outputs": [
    {
     "name": "stderr",
     "output_type": "stream",
     "text": [
      "INFO:unityagents:\n",
      "'Academy' started successfully!\n",
      "Unity Academy name: Academy\n",
      "        Number of Brains: 1\n",
      "        Number of External Brains : 1\n",
      "        Lesson number : 0\n",
      "        Reset Parameters :\n",
      "\t\t\n",
      "Unity brain name: TennisBrain\n",
      "        Number of Visual Observations (per agent): 0\n",
      "        Vector Observation space type: continuous\n",
      "        Vector Observation space size (per agent): 8\n",
      "        Number of stacked Vector Observation: 3\n",
      "        Vector Action space type: continuous\n",
      "        Vector Action space size (per agent): 2\n",
      "        Vector Action descriptions: , \n"
     ]
    }
   ],
   "source": [
    "env = UnityEnvironment(file_name='./Tennis_Windows_x86_64/Tennis.exe')"
   ]
  },
  {
   "cell_type": "markdown",
   "metadata": {},
   "source": [
    "### 2. Examine the State and Action Spaces\n",
    "\n",
    "In this environment, two agents control rackets to bounce a ball over a net. If an agent hits the ball over the net, it receives a reward of +0.1.  If an agent lets a ball hit the ground or hits the ball out of bounds, it receives a reward of -0.01.  Thus, the goal of each agent is to keep the ball in play.\n",
    "\n",
    "The observation space consists of 8 variables corresponding to the position and velocity of the ball and racket. Two continuous actions are available, corresponding to movement toward (or away from) the net, and jumping. \n",
    "\n",
    "Run the code cell below to print some information about the environment."
   ]
  },
  {
   "cell_type": "code",
   "execution_count": 5,
   "metadata": {},
   "outputs": [
    {
     "name": "stdout",
     "output_type": "stream",
     "text": [
      "Number of agents: 2\n",
      "Size of each action: 2\n",
      "There are 2 agents. Each observes a state with length: 24\n",
      "The state for the first agent looks like: [ 0.          0.          0.          0.          0.          0.\n",
      "  0.          0.          0.          0.          0.          0.\n",
      "  0.          0.          0.          0.         -6.65278625 -1.5\n",
      " -0.          0.          6.83172083  6.         -0.          0.        ]\n"
     ]
    }
   ],
   "source": [
    "# get the default brain\n",
    "brain_name = env.brain_names[0]\n",
    "brain = env.brains[brain_name]\n",
    "\n",
    "# reset the environment\n",
    "env_info = env.reset(train_mode=True)[brain_name]\n",
    "\n",
    "# number of agents \n",
    "num_agents = len(env_info.agents)\n",
    "print('Number of agents:', num_agents)\n",
    "\n",
    "# size of each action\n",
    "action_size = brain.vector_action_space_size\n",
    "print('Size of each action:', action_size)\n",
    "\n",
    "# examine the state space \n",
    "states = env_info.vector_observations\n",
    "state_size = states.shape[1]\n",
    "print('There are {} agents. Each observes a state with length: {}'.format(states.shape[0], state_size))\n",
    "print('The state for the first agent looks like:', states[0])"
   ]
  },
  {
   "cell_type": "code",
   "execution_count": 6,
   "metadata": {},
   "outputs": [],
   "source": [
    "#edit current run\n",
    "curr_run = 'run6'\n",
    "model_dir = Path('./models') \n",
    "run_dir = model_dir / curr_run\n",
    "log_dir = run_dir / 'logs'\n",
    "\n",
    "#os.makedirs(run_dir)\n",
    "#os.makedirs(log_dir)\n"
   ]
  },
  {
   "cell_type": "markdown",
   "metadata": {},
   "source": [
    "### 3. Set the parameters\n",
    "\n",
    "in this section we set the parameter to use in our model"
   ]
  },
  {
   "cell_type": "code",
   "execution_count": 7,
   "metadata": {},
   "outputs": [],
   "source": [
    "\n",
    "# number of training episodes.\n",
    "number_of_episodes = 4000\n",
    "episode_length = 50\n",
    "batch_size = 120\n",
    "\n",
    "# amplitude of OU noise\n",
    "# this slowly decreases to 0\n",
    "noise = 1\n",
    "noise_reduction = 0.9999\n",
    "\n",
    "hidden_dim_actor = 256\n",
    "hidden_dim_critic = 256\n",
    "gamma=0.95\n",
    "tau=0.001\n",
    "lr_actor=0.001\n",
    "lr_critic=0.001\n",
    "\n",
    "device = torch.device(\"cuda:0\" if torch.cuda.is_available() else \"cpu\")\n",
    "\n",
    "\n",
    "agent_init_params = {'num_in_pol': state_size,\n",
    "                     'num_out_pol': action_size,\n",
    "                     'num_in_critic': state_size,\n",
    "                     'hidden_dim_actor': hidden_dim_actor,\n",
    "                     'hidden_dim_critic': hidden_dim_critic,\n",
    "                     'tau':tau,\n",
    "                     'gamma': gamma,\n",
    "                    'lr_actor':lr_actor,\n",
    "                    'lr_critic':lr_critic,\n",
    "                    'batch_size':batch_size,\n",
    "                    'max_episode_len':episode_length}\n",
    "\n"
   ]
  },
  {
   "cell_type": "markdown",
   "metadata": {},
   "source": [
    "### 4. Train the model\n",
    "\n",
    "in this section we train the maddpg"
   ]
  },
  {
   "cell_type": "code",
   "execution_count": 7,
   "metadata": {},
   "outputs": [],
   "source": [
    "\n",
    "agent1 = DDPGAgent(**agent_init_params)\n",
    "agent2 = DDPGAgent(**agent_init_params)\n",
    "\n",
    "\n",
    "# load the pretained model\n",
    "\n",
    "agent_0_weights = run_dir  /  'checkpoint_actor1.pth'\n",
    "agent_0_critic_weights =  run_dir  /  'checkpoint_critic1.pth'\n",
    "agent_0_actor_target =  run_dir  /  'checkpoint_actor_target1.pth'\n",
    "agent_0_critic_target =   run_dir  / 'checkpoint_critic_target1.pth'\n",
    "\n",
    "\n",
    "agent_1_weights =  run_dir  /  'checkpoint_actor2.pth'\n",
    "agent_1_critic_weights = run_dir  /  'checkpoint_critic2.pth'\n",
    "agent_1_actor_target = run_dir  /   'checkpoint_actor_target2.pth'\n",
    "agent_1_critic_target = run_dir  /   'checkpoint_critic_target2.pth'\n",
    "\n",
    "agent1.policy.load_state_dict(torch.load(agent_0_weights))\n",
    "agent1.critic.load_state_dict(torch.load(agent_0_critic_weights))\n",
    "agent1.target_policy.load_state_dict(torch.load(agent_0_actor_target))\n",
    "agent1.target_critic.load_state_dict(torch.load(agent_0_critic_target))\n",
    "\n",
    "agent2.policy.load_state_dict(torch.load(agent_1_weights))\n",
    "agent2.critic.load_state_dict(torch.load(agent_1_critic_weights))\n",
    "agent2.target_policy.load_state_dict(torch.load(agent_1_actor_target))\n",
    "agent2.target_critic.load_state_dict(torch.load(agent_1_critic_target))"
   ]
  },
  {
   "cell_type": "code",
   "execution_count": 15,
   "metadata": {
    "scrolled": true
   },
   "outputs": [
    {
     "name": "stdout",
     "output_type": "stream",
     "text": [
      "Episode 0\t Mean Score of both Agents: 0.0000, replay memory0 11.000, repleay mem1 11.000 \n",
      "Episode 200\t Mean Score of both Agents: 0.0020, replay memory0 3007.000, repleay mem1 3007.000 \n",
      "Episode 400\t Mean Score of both Agents: 0.0010, replay memory0 6030.000, repleay mem1 6030.000 \n",
      "Episode 600\t Mean Score of both Agents: 0.0000, replay memory0 8870.000, repleay mem1 8870.000 \n",
      "Episode 800\t Mean Score of both Agents: 0.0000, replay memory0 11778.000, repleay mem1 11778.000 \n",
      "Episode 1000\t Mean Score of both Agents: 0.0270, replay memory0 15526.000, repleay mem1 15526.000 \n",
      "Episode 1200\t Mean Score of both Agents: 0.1930, replay memory0 22857.000, repleay mem1 22857.000 \n",
      "Episode 1400\t Mean Score of both Agents: 0.3860, replay memory0 35583.000, repleay mem1 35583.000 \n",
      "Episode 1600\t Mean Score of both Agents: 0.3710, replay memory0 50455.000, repleay mem1 50455.000 \n",
      "Episode 1800\t Mean Score of both Agents: 1.0300, replay memory0 85968.000, repleay mem1 85968.000 \n",
      "Episode 1900\t Mean Score of both Agents: 1.2668, replay memory0 111289.000, repleay mem1 111289.000 "
     ]
    },
    {
     "ename": "KeyboardInterrupt",
     "evalue": "",
     "output_type": "error",
     "traceback": [
      "\u001b[1;31m---------------------------------------------------------------------------\u001b[0m",
      "\u001b[1;31mKeyboardInterrupt\u001b[0m                         Traceback (most recent call last)",
      "\u001b[1;32m<ipython-input-15-0013ccf2c1cf>\u001b[0m in \u001b[0;36m<module>\u001b[1;34m\u001b[0m\n\u001b[0;32m     35\u001b[0m \u001b[1;33m\u001b[0m\u001b[0m\n\u001b[0;32m     36\u001b[0m         \u001b[0magent1\u001b[0m\u001b[1;33m.\u001b[0m\u001b[0mstep\u001b[0m\u001b[1;33m(\u001b[0m\u001b[0mstate1\u001b[0m\u001b[1;33m,\u001b[0m \u001b[0maction1\u001b[0m\u001b[1;33m,\u001b[0m \u001b[0mreward\u001b[0m\u001b[1;33m[\u001b[0m\u001b[1;36m0\u001b[0m\u001b[1;33m]\u001b[0m\u001b[1;33m,\u001b[0m\u001b[0mnext_state1\u001b[0m\u001b[1;33m,\u001b[0m \u001b[0mdone\u001b[0m\u001b[1;33m,\u001b[0m\u001b[0mt_step\u001b[0m\u001b[1;33m)\u001b[0m\u001b[1;33m\u001b[0m\u001b[1;33m\u001b[0m\u001b[0m\n\u001b[1;32m---> 37\u001b[1;33m         \u001b[0magent2\u001b[0m\u001b[1;33m.\u001b[0m\u001b[0mstep\u001b[0m\u001b[1;33m(\u001b[0m\u001b[0mstate2\u001b[0m\u001b[1;33m,\u001b[0m \u001b[0maction2\u001b[0m\u001b[1;33m,\u001b[0m \u001b[0mreward\u001b[0m\u001b[1;33m[\u001b[0m\u001b[1;36m1\u001b[0m\u001b[1;33m]\u001b[0m\u001b[1;33m,\u001b[0m\u001b[0mnext_state2\u001b[0m\u001b[1;33m,\u001b[0m \u001b[0mdone\u001b[0m\u001b[1;33m,\u001b[0m\u001b[0mt_step\u001b[0m\u001b[1;33m)\u001b[0m\u001b[1;33m\u001b[0m\u001b[1;33m\u001b[0m\u001b[0m\n\u001b[0m\u001b[0;32m     38\u001b[0m \u001b[1;33m\u001b[0m\u001b[0m\n\u001b[0;32m     39\u001b[0m         \u001b[0mstate\u001b[0m \u001b[1;33m=\u001b[0m \u001b[0mnext_state\u001b[0m\u001b[1;33m\u001b[0m\u001b[1;33m\u001b[0m\u001b[0m\n",
      "\u001b[1;32m~\\Documents\\reinforcement\\Tenis\\model\\ddpgv2.py\u001b[0m in \u001b[0;36mstep\u001b[1;34m(self, state, action, reward, next_state, done, t_step)\u001b[0m\n\u001b[0;32m     78\u001b[0m         \u001b[0mq_targets_next\u001b[0m \u001b[1;33m=\u001b[0m \u001b[0mself\u001b[0m\u001b[1;33m.\u001b[0m\u001b[0mtarget_critic\u001b[0m\u001b[1;33m(\u001b[0m\u001b[0mnext_states\u001b[0m\u001b[1;33m,\u001b[0m \u001b[0mnext_actions\u001b[0m\u001b[1;33m)\u001b[0m\u001b[1;33m\u001b[0m\u001b[1;33m\u001b[0m\u001b[0m\n\u001b[0;32m     79\u001b[0m \u001b[1;33m\u001b[0m\u001b[0m\n\u001b[1;32m---> 80\u001b[1;33m         \u001b[0mq_targets\u001b[0m \u001b[1;33m=\u001b[0m \u001b[0mrewards\u001b[0m \u001b[1;33m+\u001b[0m \u001b[1;33m(\u001b[0m\u001b[0mgamma\u001b[0m \u001b[1;33m*\u001b[0m \u001b[0mq_targets_next\u001b[0m \u001b[1;33m*\u001b[0m \u001b[1;33m(\u001b[0m\u001b[1;36m1\u001b[0m \u001b[1;33m-\u001b[0m \u001b[0mdones\u001b[0m\u001b[1;33m)\u001b[0m\u001b[1;33m)\u001b[0m\u001b[1;33m\u001b[0m\u001b[1;33m\u001b[0m\u001b[0m\n\u001b[0m\u001b[0;32m     81\u001b[0m \u001b[1;33m\u001b[0m\u001b[0m\n\u001b[0;32m     82\u001b[0m         \u001b[0mq_expected\u001b[0m \u001b[1;33m=\u001b[0m \u001b[0mself\u001b[0m\u001b[1;33m.\u001b[0m\u001b[0mcritic\u001b[0m\u001b[1;33m(\u001b[0m\u001b[0mstates\u001b[0m\u001b[1;33m,\u001b[0m \u001b[0mactions\u001b[0m\u001b[1;33m)\u001b[0m\u001b[1;33m\u001b[0m\u001b[1;33m\u001b[0m\u001b[0m\n",
      "\u001b[1;32m~\\Documents\\reinforcement\\Tenis\\model\\ddpgv2.py\u001b[0m in \u001b[0;36mupdate\u001b[1;34m(self, experiences, gamma)\u001b[0m\n",
      "\u001b[1;32m~\\Documents\\reinforcement\\Tenis\\model\\ddpgv2.py\u001b[0m in \u001b[0;36msoft_update\u001b[1;34m(self, local_model, target_model, tau)\u001b[0m\n",
      "\u001b[1;31mKeyboardInterrupt\u001b[0m: "
     ]
    }
   ],
   "source": [
    "\n",
    "#agent1 = DDPGAgent(**agent_init_params)\n",
    "#agent2 = DDPGAgent(**agent_init_params)\n",
    "\n",
    "scores = []\n",
    "mean_scores = []\n",
    "\n",
    "agent1.policy.cuda()\n",
    "agent1.target_policy.cuda()\n",
    "\n",
    "t_step = 0\n",
    "\n",
    "for i_episode in range(0, number_of_episodes):\n",
    "    env_info = env.reset(train_mode=True)[brain_name]\n",
    "    state = env_info.vector_observations\n",
    "    \n",
    "    agent1.reset_noise()\n",
    "    agent2.reset_noise()\n",
    "    score = 0\n",
    "    \n",
    "    while True:\n",
    "        state1 =  state[0]\n",
    "        state2 = state[1] \n",
    "        \n",
    "        action1 = agent1.act(state1.reshape((1,state1.shape[0])),explore=True)\n",
    "        action2 = agent2.act(state2.reshape((1,state2.shape[0])),explore=True)\n",
    "             \n",
    "        env_info = env.step([action1, action2])[brain_name]\n",
    "        next_state = env_info.vector_observations\n",
    "        reward = env_info.rewards\n",
    "        done = env_info.local_done\n",
    "        \n",
    "        next_state1 = next_state[0] \n",
    "        next_state2 = next_state[1] \n",
    "        \n",
    "        agent1.step(state1, action1, reward[0],next_state1, done,t_step)\n",
    "        agent2.step(state2, action2, reward[1],next_state2, done,t_step)\n",
    "        \n",
    "        state = next_state\n",
    "        score += np.max(reward)\n",
    "        t_step+=1\n",
    "        \n",
    "        if np.any(done):\n",
    "            break\n",
    "            \n",
    "    scores.append(score)\n",
    "    mean = np.mean(scores[-100:])\n",
    "\n",
    "    print('\\rEpisode {}\\t Mean Score of both Agents: {:.4f}, replay memory0 {:.3f}, repleay mem1 {:.3f} '.format(i_episode,  mean,len(agent1.replay_buffer),\n",
    "                                                                                                                                                 len(agent2.replay_buffer)),end=\"\")\n",
    "    #print('\\rstep {}'.format(t_step),end=\"\")\n",
    "    if i_episode % 200 ==0:\n",
    "        #logger.add_scalar('agent%i/mean_episode_rewards' % i_episode,  mean_score)\n",
    "        print('\\rEpisode {}\\t Mean Score of both Agents: {:.4f}, replay memory0 {:.3f}, repleay mem1 {:.3f} '.format(i_episode,  mean,len(agent1.replay_buffer),\n",
    "                                                                                                                                                 len(agent2.replay_buffer)))\n",
    "    \n",
    "    if i_episode % 100 ==0:\n",
    "        print('\\rEpisode {}\\t Mean Score of both Agents: {:.4f}, replay memory0 {:.3f}, repleay mem1 {:.3f} '.format(i_episode,  mean,len(agent1.replay_buffer),\n",
    "                                                                                                                                                 len(agent2.replay_buffer)),end=\"\")\n",
    "        torch.save(agent1.policy.state_dict(), run_dir / 'checkpoint_actor1.pth')\n",
    "        torch.save(agent1.critic.state_dict(), run_dir / 'checkpoint_critic1.pth')\n",
    "        torch.save(agent1.target_policy.state_dict(),run_dir / 'checkpoint_actor_target1.pth')\n",
    "        torch.save(agent1.target_critic.state_dict(),run_dir / 'checkpoint_critic_target1.pth')\n",
    "            \n",
    "        torch.save(agent2.policy.state_dict(), run_dir /'checkpoint_actor2.pth')\n",
    "        torch.save(agent2.critic.state_dict(),run_dir / 'checkpoint_critic2.pth')\n",
    "        torch.save(agent2.target_policy.state_dict(),run_dir / 'checkpoint_actor_target2.pth')\n",
    "        torch.save(agent2.target_critic.state_dict(),run_dir / 'checkpoint_critic_target2.pth')\n",
    "    \n",
    "\n",
    "    \n",
    "        "
   ]
  },
  {
   "cell_type": "code",
   "execution_count": 8,
   "metadata": {},
   "outputs": [
    {
     "name": "stdout",
     "output_type": "stream",
     "text": [
      "Episode 0\t Mean Score of both Agents: 0.0000, replay memory0 15.000, repleay mem1 15.000 \n",
      "Episode 200\t Mean Score of both Agents: 0.0330, replay memory0 3604.000, repleay mem1 3604.000 \n",
      "Episode 400\t Mean Score of both Agents: 0.0010, replay memory0 6782.000, repleay mem1 6782.000 \n",
      "Episode 600\t Mean Score of both Agents: 0.0010, replay memory0 9738.000, repleay mem1 9738.000 \n",
      "Episode 800\t Mean Score of both Agents: 0.0020, replay memory0 12633.000, repleay mem1 12633.000 \n",
      "Episode 1000\t Mean Score of both Agents: 0.0380, replay memory0 16348.000, repleay mem1 16348.000 \n",
      "Episode 1200\t Mean Score of both Agents: 0.0618, replay memory0 21833.000, repleay mem1 21833.000 \n",
      "Episode 1400\t Mean Score of both Agents: 0.1279, replay memory0 28502.000, repleay mem1 28502.000 \n",
      "Episode 1600\t Mean Score of both Agents: 1.0039, replay memory0 56166.000, repleay mem1 56166.000 \n",
      "Episode 1704\t Mean Score of both Agents: 2.1500, replay memory0 99207.000, repleay mem1 99207.000 "
     ]
    },
    {
     "ename": "KeyboardInterrupt",
     "evalue": "",
     "output_type": "error",
     "traceback": [
      "\u001b[1;31m---------------------------------------------------------------------------\u001b[0m",
      "\u001b[1;31mKeyboardInterrupt\u001b[0m                         Traceback (most recent call last)",
      "\u001b[1;32m<ipython-input-8-3c541d87e2cf>\u001b[0m in \u001b[0;36m<module>\u001b[1;34m\u001b[0m\n\u001b[0;32m     33\u001b[0m \u001b[1;33m\u001b[0m\u001b[0m\n\u001b[0;32m     34\u001b[0m         \u001b[0magent1\u001b[0m\u001b[1;33m.\u001b[0m\u001b[0mstep\u001b[0m\u001b[1;33m(\u001b[0m\u001b[0mstate1\u001b[0m\u001b[1;33m,\u001b[0m \u001b[0maction1\u001b[0m\u001b[1;33m,\u001b[0m \u001b[0mreward\u001b[0m\u001b[1;33m[\u001b[0m\u001b[1;36m0\u001b[0m\u001b[1;33m]\u001b[0m\u001b[1;33m,\u001b[0m\u001b[0mnext_state1\u001b[0m\u001b[1;33m,\u001b[0m \u001b[0mdone\u001b[0m\u001b[1;33m,\u001b[0m\u001b[0mt_step\u001b[0m\u001b[1;33m)\u001b[0m\u001b[1;33m\u001b[0m\u001b[1;33m\u001b[0m\u001b[0m\n\u001b[1;32m---> 35\u001b[1;33m         \u001b[0magent2\u001b[0m\u001b[1;33m.\u001b[0m\u001b[0mstep\u001b[0m\u001b[1;33m(\u001b[0m\u001b[0mstate2\u001b[0m\u001b[1;33m,\u001b[0m \u001b[0maction2\u001b[0m\u001b[1;33m,\u001b[0m \u001b[0mreward\u001b[0m\u001b[1;33m[\u001b[0m\u001b[1;36m1\u001b[0m\u001b[1;33m]\u001b[0m\u001b[1;33m,\u001b[0m\u001b[0mnext_state2\u001b[0m\u001b[1;33m,\u001b[0m \u001b[0mdone\u001b[0m\u001b[1;33m,\u001b[0m\u001b[0mt_step\u001b[0m\u001b[1;33m)\u001b[0m\u001b[1;33m\u001b[0m\u001b[1;33m\u001b[0m\u001b[0m\n\u001b[0m\u001b[0;32m     36\u001b[0m \u001b[1;33m\u001b[0m\u001b[0m\n\u001b[0;32m     37\u001b[0m         \u001b[0mstate\u001b[0m \u001b[1;33m=\u001b[0m \u001b[0mnext_state\u001b[0m\u001b[1;33m\u001b[0m\u001b[1;33m\u001b[0m\u001b[0m\n",
      "\u001b[1;32m~\\Documents\\reinforcement\\TenisFinal\\model\\ddpgv2.py\u001b[0m in \u001b[0;36mstep\u001b[1;34m(self, state, action, reward, next_state, done, t_step)\u001b[0m\n\u001b[0;32m     49\u001b[0m         \u001b[1;32mif\u001b[0m \u001b[0mlen\u001b[0m\u001b[1;33m(\u001b[0m\u001b[0mself\u001b[0m\u001b[1;33m.\u001b[0m\u001b[0mreplay_buffer\u001b[0m\u001b[1;33m)\u001b[0m \u001b[1;33m>\u001b[0m \u001b[0mself\u001b[0m\u001b[1;33m.\u001b[0m\u001b[0mbatch_size\u001b[0m\u001b[1;33m*\u001b[0m\u001b[1;36m2\u001b[0m\u001b[1;33m:\u001b[0m\u001b[1;33m\u001b[0m\u001b[1;33m\u001b[0m\u001b[0m\n\u001b[0;32m     50\u001b[0m             \u001b[0mexperiences\u001b[0m \u001b[1;33m=\u001b[0m \u001b[0mself\u001b[0m\u001b[1;33m.\u001b[0m\u001b[0mreplay_buffer\u001b[0m\u001b[1;33m.\u001b[0m\u001b[0msample\u001b[0m\u001b[1;33m(\u001b[0m\u001b[1;33m)\u001b[0m\u001b[1;33m\u001b[0m\u001b[1;33m\u001b[0m\u001b[0m\n\u001b[1;32m---> 51\u001b[1;33m             \u001b[0mself\u001b[0m\u001b[1;33m.\u001b[0m\u001b[0mupdate\u001b[0m\u001b[1;33m(\u001b[0m\u001b[0mexperiences\u001b[0m\u001b[1;33m,\u001b[0m \u001b[0mself\u001b[0m\u001b[1;33m.\u001b[0m\u001b[0mgamma\u001b[0m\u001b[1;33m)\u001b[0m\u001b[1;33m\u001b[0m\u001b[1;33m\u001b[0m\u001b[0m\n\u001b[0m\u001b[0;32m     52\u001b[0m \u001b[1;33m\u001b[0m\u001b[0m\n\u001b[0;32m     53\u001b[0m     \u001b[1;32mdef\u001b[0m \u001b[0mact\u001b[0m\u001b[1;33m(\u001b[0m\u001b[0mself\u001b[0m\u001b[1;33m,\u001b[0m \u001b[0mstate\u001b[0m\u001b[1;33m,\u001b[0m \u001b[0mexplore\u001b[0m\u001b[1;33m=\u001b[0m\u001b[1;32mTrue\u001b[0m\u001b[1;33m)\u001b[0m\u001b[1;33m:\u001b[0m\u001b[1;33m\u001b[0m\u001b[1;33m\u001b[0m\u001b[0m\n",
      "\u001b[1;32m~\\Documents\\reinforcement\\TenisFinal\\model\\ddpgv2.py\u001b[0m in \u001b[0;36mupdate\u001b[1;34m(self, experiences, gamma)\u001b[0m\n\u001b[0;32m     86\u001b[0m         \u001b[0mcritic_loss\u001b[0m\u001b[1;33m.\u001b[0m\u001b[0mbackward\u001b[0m\u001b[1;33m(\u001b[0m\u001b[1;33m)\u001b[0m\u001b[1;33m\u001b[0m\u001b[1;33m\u001b[0m\u001b[0m\n\u001b[0;32m     87\u001b[0m         \u001b[0mtorch\u001b[0m\u001b[1;33m.\u001b[0m\u001b[0mnn\u001b[0m\u001b[1;33m.\u001b[0m\u001b[0mutils\u001b[0m\u001b[1;33m.\u001b[0m\u001b[0mclip_grad_norm_\u001b[0m\u001b[1;33m(\u001b[0m\u001b[0mself\u001b[0m\u001b[1;33m.\u001b[0m\u001b[0mcritic\u001b[0m\u001b[1;33m.\u001b[0m\u001b[0mparameters\u001b[0m\u001b[1;33m(\u001b[0m\u001b[1;33m)\u001b[0m\u001b[1;33m,\u001b[0m \u001b[1;36m0.51\u001b[0m\u001b[1;33m)\u001b[0m\u001b[1;33m\u001b[0m\u001b[1;33m\u001b[0m\u001b[0m\n\u001b[1;32m---> 88\u001b[1;33m         \u001b[0mself\u001b[0m\u001b[1;33m.\u001b[0m\u001b[0mcritic_optimizer\u001b[0m\u001b[1;33m.\u001b[0m\u001b[0mstep\u001b[0m\u001b[1;33m(\u001b[0m\u001b[1;33m)\u001b[0m\u001b[1;33m\u001b[0m\u001b[1;33m\u001b[0m\u001b[0m\n\u001b[0m\u001b[0;32m     89\u001b[0m \u001b[1;33m\u001b[0m\u001b[0m\n\u001b[0;32m     90\u001b[0m         \u001b[0mpredicted_actions\u001b[0m \u001b[1;33m=\u001b[0m \u001b[0mself\u001b[0m\u001b[1;33m.\u001b[0m\u001b[0mpolicy\u001b[0m\u001b[1;33m(\u001b[0m\u001b[0mstates\u001b[0m\u001b[1;33m)\u001b[0m\u001b[1;33m\u001b[0m\u001b[1;33m\u001b[0m\u001b[0m\n",
      "\u001b[1;32m~\\Anaconda3\\envs\\drlnd\\lib\\site-packages\\torch\\optim\\adam.py\u001b[0m in \u001b[0;36mstep\u001b[1;34m(self, closure)\u001b[0m\n\u001b[0;32m     92\u001b[0m                 \u001b[1;31m# Decay the first and second moment running average coefficient\u001b[0m\u001b[1;33m\u001b[0m\u001b[1;33m\u001b[0m\u001b[1;33m\u001b[0m\u001b[0m\n\u001b[0;32m     93\u001b[0m                 \u001b[0mexp_avg\u001b[0m\u001b[1;33m.\u001b[0m\u001b[0mmul_\u001b[0m\u001b[1;33m(\u001b[0m\u001b[0mbeta1\u001b[0m\u001b[1;33m)\u001b[0m\u001b[1;33m.\u001b[0m\u001b[0madd_\u001b[0m\u001b[1;33m(\u001b[0m\u001b[1;36m1\u001b[0m \u001b[1;33m-\u001b[0m \u001b[0mbeta1\u001b[0m\u001b[1;33m,\u001b[0m \u001b[0mgrad\u001b[0m\u001b[1;33m)\u001b[0m\u001b[1;33m\u001b[0m\u001b[1;33m\u001b[0m\u001b[0m\n\u001b[1;32m---> 94\u001b[1;33m                 \u001b[0mexp_avg_sq\u001b[0m\u001b[1;33m.\u001b[0m\u001b[0mmul_\u001b[0m\u001b[1;33m(\u001b[0m\u001b[0mbeta2\u001b[0m\u001b[1;33m)\u001b[0m\u001b[1;33m.\u001b[0m\u001b[0maddcmul_\u001b[0m\u001b[1;33m(\u001b[0m\u001b[1;36m1\u001b[0m \u001b[1;33m-\u001b[0m \u001b[0mbeta2\u001b[0m\u001b[1;33m,\u001b[0m \u001b[0mgrad\u001b[0m\u001b[1;33m,\u001b[0m \u001b[0mgrad\u001b[0m\u001b[1;33m)\u001b[0m\u001b[1;33m\u001b[0m\u001b[1;33m\u001b[0m\u001b[0m\n\u001b[0m\u001b[0;32m     95\u001b[0m                 \u001b[1;32mif\u001b[0m \u001b[0mamsgrad\u001b[0m\u001b[1;33m:\u001b[0m\u001b[1;33m\u001b[0m\u001b[1;33m\u001b[0m\u001b[0m\n\u001b[0;32m     96\u001b[0m                     \u001b[1;31m# Maintains the maximum of all 2nd moment running avg. till now\u001b[0m\u001b[1;33m\u001b[0m\u001b[1;33m\u001b[0m\u001b[1;33m\u001b[0m\u001b[0m\n",
      "\u001b[1;31mKeyboardInterrupt\u001b[0m: "
     ]
    }
   ],
   "source": [
    "\n",
    "\n",
    "scores = []\n",
    "mean_scores = []\n",
    "\n",
    "agent1.policy.cuda()\n",
    "agent1.target_policy.cuda()\n",
    "\n",
    "t_step = 0\n",
    "\n",
    "for i_episode in range(0, number_of_episodes):\n",
    "    env_info = env.reset(train_mode=True)[brain_name]\n",
    "    state = env_info.vector_observations\n",
    "    \n",
    "    agent1.reset_noise()\n",
    "    agent2.reset_noise()\n",
    "    score = 0\n",
    "    \n",
    "    while True:\n",
    "        state1 =  state[0]\n",
    "        state2 = state[1] \n",
    "        \n",
    "        action1 = agent1.act(state1.reshape((1,state1.shape[0])),explore=True)\n",
    "        action2 = agent2.act(state2.reshape((1,state2.shape[0])),explore=True)\n",
    "             \n",
    "        env_info = env.step([action1, action2])[brain_name]\n",
    "        next_state = env_info.vector_observations\n",
    "        reward = env_info.rewards\n",
    "        done = env_info.local_done\n",
    "        \n",
    "        next_state1 = next_state[0] \n",
    "        next_state2 = next_state[1] \n",
    "        \n",
    "        agent1.step(state1, action1, reward[0],next_state1, done,t_step)\n",
    "        agent2.step(state2, action2, reward[1],next_state2, done,t_step)\n",
    "        \n",
    "        state = next_state\n",
    "        score += np.max(reward)\n",
    "        t_step+=1\n",
    "        \n",
    "        if np.any(done):\n",
    "            break\n",
    "            \n",
    "    scores.append(score)\n",
    "    mean = np.mean(scores[-100:])\n",
    "\n",
    "    print('\\rEpisode {}\\t Mean Score of both Agents: {:.4f}, replay memory0 {:.3f}, repleay mem1 {:.3f} '.format(i_episode,  mean,len(agent1.replay_buffer),\n",
    "                                                                                                                                                 len(agent2.replay_buffer)),end=\"\")\n",
    "    #print('\\rstep {}'.format(t_step),end=\"\")\n",
    "    if i_episode % 200 ==0:\n",
    "        #logger.add_scalar('agent%i/mean_episode_rewards' % i_episode,  mean_score)\n",
    "        print('\\rEpisode {}\\t Mean Score of both Agents: {:.4f}, replay memory0 {:.3f}, repleay mem1 {:.3f} '.format(i_episode,  mean,len(agent1.replay_buffer),\n",
    "                                                                                                                                                 len(agent2.replay_buffer)))\n",
    "    \n",
    "    if i_episode % 100 ==0:\n",
    "        print('\\rEpisode {}\\t Mean Score of both Agents: {:.4f}, replay memory0 {:.3f}, repleay mem1 {:.3f} '.format(i_episode,  mean,len(agent1.replay_buffer),\n",
    "                                                                                                                                                 len(agent2.replay_buffer)),end=\"\")\n",
    "        torch.save(agent1.policy.state_dict(), run_dir / 'checkpoint_actor13.pth')\n",
    "        torch.save(agent1.critic.state_dict(), run_dir / 'checkpoint_critic13.pth')\n",
    "        torch.save(agent1.target_policy.state_dict(),run_dir / 'checkpoint_actor_target13.pth')\n",
    "        torch.save(agent1.target_critic.state_dict(),run_dir / 'checkpoint_critic_target13.pth')\n",
    "            \n",
    "        torch.save(agent2.policy.state_dict(), run_dir /'checkpoint_actor23.pth')\n",
    "        torch.save(agent2.critic.state_dict(),run_dir / 'checkpoint_critic23.pth')\n",
    "        torch.save(agent2.target_policy.state_dict(),run_dir / 'checkpoint_actor_target23.pth')\n",
    "        torch.save(agent2.target_critic.state_dict(),run_dir / 'checkpoint_critic_target23.pth')\n",
    "    \n",
    "\n",
    "    \n",
    "        "
   ]
  },
  {
   "cell_type": "code",
   "execution_count": 12,
   "metadata": {},
   "outputs": [
    {
     "data": {
      "image/png": "[encoded data removed]",
      "text/plain": [
       "<Figure size 432x288 with 1 Axes>"
      ]
     },
     "metadata": {
      "needs_background": "light"
     },
     "output_type": "display_data"
    }
   ],
   "source": [
    "import matplotlib.pyplot as plt\n",
    "%matplotlib inline\n",
    "# plot the scores\n",
    "fig = plt.figure()\n",
    "ax = fig.add_subplot(111)\n",
    "plt.plot(np.arange(len(scores)), scores, label='MADDPG')\n",
    "plt.ylabel('Score')\n",
    "plt.xlabel('Episode #')\n",
    "plt.legend(loc='upper left');\n",
    "plt.show()"
   ]
  },
  {
   "cell_type": "code",
   "execution_count": 17,
   "metadata": {},
   "outputs": [],
   "source": [
    "env.close()"
   ]
  },
  {
   "cell_type": "markdown",
   "metadata": {},
   "source": [
    "### 5. Test the model\n"
   ]
  },
  {
   "cell_type": "code",
   "execution_count": 3,
   "metadata": {},
   "outputs": [
    {
     "name": "stderr",
     "output_type": "stream",
     "text": [
      "INFO:unityagents:\n",
      "'Academy' started successfully!\n",
      "Unity Academy name: Academy\n",
      "        Number of Brains: 1\n",
      "        Number of External Brains : 1\n",
      "        Lesson number : 0\n",
      "        Reset Parameters :\n",
      "\t\t\n",
      "Unity brain name: TennisBrain\n",
      "        Number of Visual Observations (per agent): 0\n",
      "        Vector Observation space type: continuous\n",
      "        Vector Observation space size (per agent): 8\n",
      "        Number of stacked Vector Observation: 3\n",
      "        Vector Action space type: continuous\n",
      "        Vector Action space size (per agent): 2\n",
      "        Vector Action descriptions: , \n"
     ]
    }
   ],
   "source": [
    "env = UnityEnvironment(file_name='./Tennis_Windows_x86_64/Tennis.exe')"
   ]
  },
  {
   "cell_type": "code",
   "execution_count": 13,
   "metadata": {},
   "outputs": [],
   "source": [
    "agent1_pre = DDPGAgent(**agent_init_params)\n",
    "agent2_pre = DDPGAgent(**agent_init_params)\n",
    "\n",
    "\n",
    "# load the pretained model\n",
    "\n",
    "agent_0_weights = run_dir  /  'checkpoint_actor13.pth'\n",
    "agent_0_critic_weights =  run_dir  /  'checkpoint_critic13.pth'\n",
    "agent_0_actor_target =  run_dir  /  'checkpoint_actor_target13.pth'\n",
    "agent_0_critic_target =   run_dir  / 'checkpoint_critic_target13.pth'\n",
    "\n",
    "\n",
    "agent_1_weights =  run_dir  /  'checkpoint_actor23.pth'\n",
    "agent_1_critic_weights = run_dir  /  'checkpoint_critic23.pth'\n",
    "agent_1_actor_target = run_dir  /   'checkpoint_actor_target23.pth'\n",
    "agent_1_critic_target = run_dir  /   'checkpoint_critic_target23.pth'\n",
    "\n",
    "agent1_pre.policy.load_state_dict(torch.load(agent_0_weights))\n",
    "agent1_pre.critic.load_state_dict(torch.load(agent_0_critic_weights))\n",
    "agent1_pre.target_policy.load_state_dict(torch.load(agent_0_actor_target))\n",
    "agent1_pre.target_critic.load_state_dict(torch.load(agent_0_critic_target))\n",
    "\n",
    "agent2_pre.policy.load_state_dict(torch.load(agent_1_weights))\n",
    "agent2_pre.critic.load_state_dict(torch.load(agent_1_critic_weights))\n",
    "agent2_pre.target_policy.load_state_dict(torch.load(agent_1_actor_target))\n",
    "agent2_pre.target_critic.load_state_dict(torch.load(agent_1_critic_target))"
   ]
  },
  {
   "cell_type": "code",
   "execution_count": 15,
   "metadata": {},
   "outputs": [
    {
     "name": "stdout",
     "output_type": "stream",
     "text": [
      "Score (max over agents) from episode 1: 0.6000000089406967\n",
      "Score (max over agents) from episode 2: 2.600000038743019\n",
      "Score (max over agents) from episode 3: 0.0\n",
      "Score (max over agents) from episode 4: 0.10000000149011612\n",
      "Score (max over agents) from episode 5: 0.10000000149011612\n"
     ]
    }
   ],
   "source": [
    "for i in range(1, 6):                                      # play game for 5 episodes\n",
    "    env_info = env.reset(train_mode=False)[brain_name]     # reset the environment    \n",
    "    states = env_info.vector_observations                  # get the current state (for each agent)\n",
    "    scores = np.zeros(num_agents)                          # initialize the score (for each agent)\n",
    "    while True:\n",
    "        \n",
    "        state1 =states[0]\n",
    "        state2 = states[1] \n",
    "        \n",
    "        action1 = agent1_pre.act(state1.reshape((1,state1.shape[0])),explore=False)\n",
    "        action2 = agent2_pre.act(state2.reshape((1,state2.shape[0])),explore=False)\n",
    "        \n",
    "        env_info = env.step([action1, action2])[brain_name]\n",
    "        next_states = env_info.vector_observations         # get next state (for each agent)\n",
    "        rewards = env_info.rewards                         # get reward (for each agent)\n",
    "        dones = env_info.local_done                        # see if episode finished\n",
    "        scores += env_info.rewards                         # update the score (for each agent)\n",
    "        states = next_states                               # roll over states to next time step\n",
    "        if np.any(dones):                                  # exit loop if episode finished\n",
    "            break\n",
    "    print('Score (max over agents) from episode {}: {}'.format(i, np.max(scores)))"
   ]
  },
  {
   "cell_type": "code",
   "execution_count": 12,
   "metadata": {},
   "outputs": [],
   "source": [
    "env.close()"
   ]
  },
  {
   "cell_type": "code",
   "execution_count": null,
   "metadata": {},
   "outputs": [],
   "source": []
  },
  {
   "cell_type": "code",
   "execution_count": null,
   "metadata": {},
   "outputs": [],
   "source": []
  },
  {
   "cell_type": "code",
   "execution_count": null,
   "metadata": {},
   "outputs": [],
   "source": []
  },
  {
   "cell_type": "code",
   "execution_count": null,
   "metadata": {},
   "outputs": [],
   "source": []
  },
  {
   "cell_type": "code",
   "execution_count": null,
   "metadata": {},
   "outputs": [],
   "source": []
  },
  {
   "cell_type": "code",
   "execution_count": null,
   "metadata": {},
   "outputs": [],
   "source": []
  },
  {
   "cell_type": "code",
   "execution_count": null,
   "metadata": {},
   "outputs": [],
   "source": []
  },
  {
   "cell_type": "code",
   "execution_count": null,
   "metadata": {},
   "outputs": [],
   "source": []
  },
  {
   "cell_type": "code",
   "execution_count": null,
   "metadata": {},
   "outputs": [],
   "source": []
  }
 ],
 "metadata": {
  "kernelspec": {
   "display_name": "Python 3",
   "language": "python",
   "name": "python3"
  },
  "language_info": {
   "codemirror_mode": {
    "name": "ipython",
    "version": 3
   },
   "file_extension": ".py",
   "mimetype": "text/x-python",
   "name": "python",
   "nbconvert_exporter": "python",
   "pygments_lexer": "ipython3",
   "version": "3.6.8"
  }
 },
 "nbformat": 4,
 "nbformat_minor": 2
}
